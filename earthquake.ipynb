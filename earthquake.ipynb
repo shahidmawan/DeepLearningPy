{
 "cells": [
  {
   "cell_type": "code",
   "execution_count": 1,
   "metadata": {
    "collapsed": true
   },
   "outputs": [],
   "source": [
    "import tensorflow as tf"
   ]
  },
  {
   "cell_type": "code",
   "execution_count": 2,
   "metadata": {
    "collapsed": true
   },
   "outputs": [],
   "source": [
    "hello = tf.constant('Hello World')"
   ]
  },
  {
   "cell_type": "code",
   "execution_count": 3,
   "metadata": {},
   "outputs": [
    {
     "data": {
      "text/plain": [
       "tensorflow.python.framework.ops.Tensor"
      ]
     },
     "execution_count": 3,
     "metadata": {},
     "output_type": "execute_result"
    }
   ],
   "source": [
    "type(hello)"
   ]
  },
  {
   "cell_type": "code",
   "execution_count": 4,
   "metadata": {
    "collapsed": true
   },
   "outputs": [],
   "source": [
    "x = tf.constant(100)"
   ]
  },
  {
   "cell_type": "code",
   "execution_count": 5,
   "metadata": {},
   "outputs": [
    {
     "data": {
      "text/plain": [
       "tensorflow.python.framework.ops.Tensor"
      ]
     },
     "execution_count": 5,
     "metadata": {},
     "output_type": "execute_result"
    }
   ],
   "source": [
    "type(x)"
   ]
  },
  {
   "cell_type": "code",
   "execution_count": 9,
   "metadata": {},
   "outputs": [
    {
     "name": "stdout",
     "output_type": "stream",
     "text": [
      "TensorFlow version: 1.14.0\n"
     ]
    }
   ],
   "source": [
    "import numpy as np\n",
    "import tensorflow as tf\n",
    "import pandas as pd\n",
    "import time as time\n",
    "import matplotlib.pyplot as plt\n",
    "%matplotlib inline\n",
    "print(\"TensorFlow version:\",tf.__version__)"
   ]
  },
  {
   "cell_type": "code",
   "execution_count": 10,
   "metadata": {
    "collapsed": true
   },
   "outputs": [],
   "source": [
    "data_dir =\"/Earth_Quake_predict/data/\"\n",
    "model_dir =\"/tmp/earth_quake_predict/models/1/\"\n",
    "summaries_dir = \"/tmp/earth_quake_predict/logs\""
   ]
  },
  {
   "cell_type": "code",
   "execution_count": 29,
   "metadata": {},
   "outputs": [
    {
     "name": "stdout",
     "output_type": "stream",
     "text": [
      "Shape of training input: (23412, 3)\n",
      "Shape of values in training output: (23412,)\n",
      "Input data:\n",
      " [[  19.246   145.616   131.6   ]\n",
      " [   1.863   127.352    80.    ]\n",
      " [ -20.579  -173.972    20.    ]\n",
      " ...\n",
      " [  36.9179  140.4262   10.    ]\n",
      " [  -9.0283  118.6639   79.    ]\n",
      " [  37.3973  141.4103   11.94  ]]\n",
      "Output data:\n",
      " [6.  5.8 6.2 ... 5.9 6.3 5.5]\n"
     ]
    },
    {
     "name": "stderr",
     "output_type": "stream",
     "text": [
      "C:\\Users\\WALI\\Anaconda3\\envs\\tfp3.6\\lib\\site-packages\\ipykernel_launcher.py:7: FutureWarning: Method .as_matrix will be removed in a future version. Use .values instead.\n",
      "  import sys\n",
      "C:\\Users\\WALI\\Anaconda3\\envs\\tfp3.6\\lib\\site-packages\\ipykernel_launcher.py:8: FutureWarning: Method .as_matrix will be removed in a future version. Use .values instead.\n",
      "  \n"
     ]
    }
   ],
   "source": [
    "#Extract data from CSV\n",
    "df1 = pd.read_csv('C:/Users/WALI/Desktop/Earthquake_predict-master/earthquake_data.csv')\n",
    "#df1=pd.read_csv(data_dir+ df2)\n",
    "col1 = df1[['Latitude','Longitude','Depth']]   #Extract input data\n",
    "col2 = df1['Magnitude']                     #Extract target data\n",
    "#Convert to Numpy array\n",
    "InputX1 = col1.as_matrix()\n",
    "InputY1 = col2.as_matrix()\n",
    "#Convert to float data type\n",
    "InputX1.astype(float, copy=False)\n",
    "InputY1.astype(float, copy=False)\n",
    "#Determine shape of  input/output data\n",
    "print(\"Shape of training input:\",InputX1.shape)\n",
    "print(\"Shape of values in training output:\",InputY1.shape)\n",
    "#Print input data\n",
    "print(\"Input data:\\n\",InputX1)\n",
    "#Print target data\n",
    "print(\"Output data:\\n\",InputY1)\n",
    "#Extract number of samples\n",
    "batch_size = InputY1.shape[0]          #Number of training samples\n",
    "#print(batch_size)"
   ]
  },
  {
   "cell_type": "code",
   "execution_count": 30,
   "metadata": {},
   "outputs": [
    {
     "name": "stdout",
     "output_type": "stream",
     "text": [
      "Shape of training input: (23412, 3)\n",
      "Shape of values in training output: (23412, 1)\n"
     ]
    }
   ],
   "source": [
    "#Specify input and ouput features\n",
    "Xfeatures = 3 #Number of input features\n",
    "Yfeatures = 1 #Number of input features\n",
    "#Reshape\n",
    "InputX1 = np.resize(InputX1,(batch_size,Xfeatures))\n",
    "InputY1 = np.resize(InputY1,(batch_size,Yfeatures))\n",
    "#Specify size of training batch and validation batch\n",
    "train_batch_size = 20000\n",
    "valid_batch_size = batch_size-train_batch_size\n",
    "print(\"Shape of training input:\",InputX1.shape)\n",
    "print(\"Shape of values in training output:\",InputY1.shape)"
   ]
  },
  {
   "cell_type": "code",
   "execution_count": 31,
   "metadata": {
    "collapsed": true
   },
   "outputs": [],
   "source": [
    "# reset everything to rerun in jupyter\n",
    "tf.reset_default_graph()\n",
    "with tf.device('/cpu:0'):\n",
    "    #Raw data input\n",
    "    #raw_data = tf.placeholder(tf.float32,shape=(None),name='Raw_data')#[batch size, input_features]\n",
    "    #Input variable\n",
    "    X = tf.placeholder(tf.float32,shape=(None,Xfeatures),name='Input')#[batch size, input_features]\n",
    "    #Output variable\n",
    "    Y = tf.placeholder(tf.float32,name='Output')\n",
    "\n",
    "    with tf.name_scope('Normalization'):\n",
    "        #L2 normalization for input data\n",
    "        Xnorm = tf.nn.l2_normalize(X, 0, epsilon=1e-12, name='Normalize')\n",
    "    with tf.name_scope('Split_raw_data_set_into_training_and_validation'):\n",
    "        #Slicing data set\n",
    "        Xtrain = tf.slice(Xnorm,[0,0] ,[train_batch_size,-1], name='Extract_training_data_X')\n",
    "        Ytrain = tf.slice(Y,[0,0] ,[train_batch_size,-1], name='Extract_training_data_Y')\n",
    "        Xv = tf.slice(Xnorm,[train_batch_size,0] ,[valid_batch_size,-1], name='Extract_validation_data_X')\n",
    "        Yv = tf.slice(Y,[train_batch_size,0] ,[valid_batch_size,-1], name='Extract_validation_data_Y')"
   ]
  },
  {
   "cell_type": "code",
   "execution_count": 32,
   "metadata": {
    "collapsed": true
   },
   "outputs": [],
   "source": [
    "\n",
    "##Network hyper parametres\n",
    "L1 = 3 #Number of neurons in 1st layer\n",
    "L2 = 3 #Number of neurons in 2nd layer\n",
    "L3 = 3 #Number of neurons in 3rd layer\n",
    "#Standard deviation of initial weights and biases\n",
    "stddev0 = 0.3\n",
    "with tf.device('/cpu:0'):\n",
    "    with tf.name_scope('FeedForward_layer_1'):\n",
    "        #Layer1 weights\n",
    "        W_fc1 = tf.Variable(tf.random_normal([Xfeatures,L1],stddev=stddev0),name=\"FeedForward_layer_1_weights\") # [input_features,Number of neurons]) \n",
    "        b_fc1 = tf.Variable(tf.random_normal([L1],stddev=stddev0),name=\"FeedForward_layer_1_bias\")\n",
    "        #Layer 1\n",
    "        matmul_fc1=tf.matmul(X, W_fc1) + b_fc1\n",
    "        h_fc1 = tf.nn.relu(matmul_fc1)   #ReLU activation\n",
    "        summ_W_fc1 = tf.summary.histogram(\"FC_Layer_1_Weights\",W_fc1)\n",
    "        summ_b_fc1 = tf.summary.histogram(\"FC_Layer_1_biases\",b_fc1)\n",
    "        \n",
    "    with tf.name_scope('FeedForward_layer_2'):\n",
    "        #Layer2 weights\n",
    "        W_fc2 = tf.Variable(tf.random_normal([L1,L2],stddev=stddev0),name=\"FeedForward_layer_2_weights\") # [Number of neurons in preceding layer,Number of neurons]) \n",
    "        b_fc2 = tf.Variable(tf.random_normal([L2],stddev=stddev0),name=\"FeedForward_layer_2_bias\")\n",
    "        #Layer 2\n",
    "        matmul_fc2=tf.matmul(h_fc1, W_fc2) + b_fc2\n",
    "        h_fc2 = tf.nn.relu(matmul_fc2)   #ReLU activation\n",
    "        summ_W_fc2 = tf.summary.histogram(\"FC_Layer_2_Weights\",W_fc2)\n",
    "        summ_b_fc2 = tf.summary.histogram(\"FC_Layer_2_biases\",b_fc2)\n",
    "    \n",
    "    with tf.name_scope('FeedForward_layer_3'):\n",
    "        #Layer3 weights\n",
    "        W_fc3 = tf.Variable(tf.random_normal([L2,L3],stddev=stddev0),name=\"FeedForward_layer_3_weights\") # [Number of neurons in preceding layer,Number of neurons]) \n",
    "        b_fc3 = tf.Variable(tf.random_normal([L3],stddev=stddev0),name=\"FeedForward_layer_3_bias\")\n",
    "        #Layer 3\n",
    "        matmul_fc3=tf.matmul(h_fc2, W_fc3) + b_fc3\n",
    "        h_fc3 = tf.nn.relu(matmul_fc3)   #ReLU activation\n",
    "        summ_W_fc3 = tf.summary.histogram(\"FC_Layer_3_Weights\",W_fc3)\n",
    "        summ_b_fc3 = tf.summary.histogram(\"FC_Layer_3_biases\",b_fc3)\n",
    "\n",
    "    with tf.name_scope('Output_layer'):\n",
    "        #Output layer weights\n",
    "        W_fcO = tf.Variable(tf.random_normal([L3,Yfeatures],stddev=stddev0),name=\"Output_layer_weights\") #  [Number of neurons in preceding layer,output_features]) \n",
    "        b_fcO = tf.Variable(tf.random_normal([Yfeatures],stddev=stddev0),name=\"Output_layer_bias\")\n",
    "        #Output layer\n",
    "        matmul_fc4=tf.matmul(h_fc3, W_fcO) + b_fcO\n",
    "        output_layer = matmul_fc4  #linear activation\n",
    "        summ_W_fcO = tf.summary.histogram(\"Output_Layer_Weights\",W_fcO)\n",
    "        summ_b_fcO = tf.summary.histogram(\"Output_Layer_biases\",b_fcO)"
   ]
  },
  {
   "cell_type": "code",
   "execution_count": 33,
   "metadata": {
    "collapsed": true
   },
   "outputs": [],
   "source": [
    "#Training hyper parametres\n",
    "learning_rate = 0.00001\n",
    "training_epochs = 1000000\n",
    "display_epoch = 200000\n",
    "log_epoch = 5000"
   ]
  },
  {
   "cell_type": "code",
   "execution_count": 34,
   "metadata": {},
   "outputs": [
    {
     "name": "stderr",
     "output_type": "stream",
     "text": [
      "WARNING: Logging before flag parsing goes to stderr.\n",
      "W0622 16:56:40.880215 67136 deprecation.py:323] From C:\\Users\\WALI\\Anaconda3\\envs\\tfp3.6\\lib\\site-packages\\tensorflow\\python\\ops\\losses\\losses_impl.py:121: add_dispatch_support.<locals>.wrapper (from tensorflow.python.ops.array_ops) is deprecated and will be removed in a future version.\n",
      "Instructions for updating:\n",
      "Use tf.where in 2.0, which has the same broadcast rule as np.where\n"
     ]
    }
   ],
   "source": [
    "with tf.device('/cpu:0'):\n",
    "    with tf.name_scope('Loss_Function'):\n",
    "        #Loss function\n",
    "        #mean_square_error =  tf.reduce_mean(tf.square(Y-output_layer))\n",
    "        mean_square_error = tf.losses.mean_squared_error(Y,output_layer)\n",
    "        summ_train_loss= tf.summary.scalar('sigmoid_cross_entropy_train', mean_square_error)\n",
    "        summ_valid_loss= tf.summary.scalar('sigmoid_cross_entropy_valid', mean_square_error)\n",
    "        \n",
    "    with tf.name_scope('Optimizer'):\n",
    "        train_step = tf.train.AdamOptimizer(learning_rate).minimize(mean_square_error)\n",
    "        #train_step = tf.train.AdagradOptimizer(learning_rate).minimize(mean_square_error)\n",
    "        #train_step = tf.train.MomentumOptimizer(learning_rate,0.01).minimize(mean_square_error)\n",
    "        #train_step = tf.train.GradientDescentOptimizer(learning_rate).minimize(mean_square_error)\n",
    "        \n",
    "    merged =tf.summary.merge([summ_train_loss,summ_W_fc1,summ_b_fc1,summ_W_fc2,summ_b_fc2,summ_W_fc3,summ_b_fc3,\n",
    "                             summ_W_fcO,summ_b_fcO]) \n",
    "    valid_merged =tf.summary.merge([summ_valid_loss])"
   ]
  },
  {
   "cell_type": "code",
   "execution_count": 38,
   "metadata": {},
   "outputs": [
    {
     "name": "stdout",
     "output_type": "stream",
     "text": [
      "Normalized training input:\n",
      " [[ 0.00417061  0.00723048  0.00607405]\n",
      " [ 0.00040371  0.00632359  0.00369243]\n",
      " [-0.00445947 -0.00863848  0.00092311]\n",
      " ...\n",
      " [-0.00750086 -0.00357462  0.00161544]\n",
      " [-0.00746966 -0.00357532  0.00145389]\n",
      " [-0.00745037 -0.00357408  0.00036924]]\n",
      "Normalized training output:\n",
      " [[6. ]\n",
      " [5.8]\n",
      " [6.2]\n",
      " ...\n",
      " [5.6]\n",
      " [6. ]\n",
      " [5.6]]\n",
      "Validation input:\n",
      " [[-0.0074183  -0.003571    0.00032309]\n",
      " [ 0.00499754  0.00469845  0.00471247]\n",
      " [ 0.00047501  0.00660504  0.00046155]\n",
      " ...\n",
      " [ 0.00800012  0.00697279  0.00046155]\n",
      " [-0.00195643  0.00589219  0.00364628]\n",
      " [ 0.008104    0.00702165  0.0005511 ]]\n",
      "Validation output:\n",
      " [[5.8]\n",
      " [5.5]\n",
      " [5.9]\n",
      " ...\n",
      " [5.9]\n",
      " [6.3]\n",
      " [5.5]]\n",
      "Initial training loss: 38.401375\n",
      "Initial validation loss: [38.474117]\n",
      "Training loss is: [38.401196] at itertion: 0\n",
      "Validation loss is: [38.47388] at itertion: 0\n",
      "Training loss is: [17.233084] at itertion: 200000\n",
      "Validation loss is: [17.287056] at itertion: 200000\n",
      "Training loss is: [4.701739] at itertion: 400000\n",
      "Validation loss is: [4.737373] at itertion: 400000\n",
      "Training loss is: [0.19599494] at itertion: 600000\n",
      "Validation loss is: [0.21346545] at itertion: 600000\n",
      "Training loss is: [0.176616] at itertion: 800000\n",
      "Validation loss is: [0.19281517] at itertion: 800000\n"
     ]
    },
    {
     "ename": "ValueError",
     "evalue": "Parent directory of /tmp/earth_quake_predict/models/1/earthquake_model.ckpt doesn't exist, can't save.",
     "output_type": "error",
     "traceback": [
      "\u001b[1;31m---------------------------------------------------------------------------\u001b[0m",
      "\u001b[1;31mNotFoundError\u001b[0m                             Traceback (most recent call last)",
      "\u001b[1;32m~\\Anaconda3\\envs\\tfp3.6\\lib\\site-packages\\tensorflow\\python\\client\\session.py\u001b[0m in \u001b[0;36m_do_call\u001b[1;34m(self, fn, *args)\u001b[0m\n\u001b[0;32m   1355\u001b[0m     \u001b[1;32mtry\u001b[0m\u001b[1;33m:\u001b[0m\u001b[1;33m\u001b[0m\u001b[1;33m\u001b[0m\u001b[0m\n\u001b[1;32m-> 1356\u001b[1;33m       \u001b[1;32mreturn\u001b[0m \u001b[0mfn\u001b[0m\u001b[1;33m(\u001b[0m\u001b[1;33m*\u001b[0m\u001b[0margs\u001b[0m\u001b[1;33m)\u001b[0m\u001b[1;33m\u001b[0m\u001b[1;33m\u001b[0m\u001b[0m\n\u001b[0m\u001b[0;32m   1357\u001b[0m     \u001b[1;32mexcept\u001b[0m \u001b[0merrors\u001b[0m\u001b[1;33m.\u001b[0m\u001b[0mOpError\u001b[0m \u001b[1;32mas\u001b[0m \u001b[0me\u001b[0m\u001b[1;33m:\u001b[0m\u001b[1;33m\u001b[0m\u001b[1;33m\u001b[0m\u001b[0m\n",
      "\u001b[1;32m~\\Anaconda3\\envs\\tfp3.6\\lib\\site-packages\\tensorflow\\python\\client\\session.py\u001b[0m in \u001b[0;36m_run_fn\u001b[1;34m(feed_dict, fetch_list, target_list, options, run_metadata)\u001b[0m\n\u001b[0;32m   1340\u001b[0m       return self._call_tf_sessionrun(\n\u001b[1;32m-> 1341\u001b[1;33m           options, feed_dict, fetch_list, target_list, run_metadata)\n\u001b[0m\u001b[0;32m   1342\u001b[0m \u001b[1;33m\u001b[0m\u001b[0m\n",
      "\u001b[1;32m~\\Anaconda3\\envs\\tfp3.6\\lib\\site-packages\\tensorflow\\python\\client\\session.py\u001b[0m in \u001b[0;36m_call_tf_sessionrun\u001b[1;34m(self, options, feed_dict, fetch_list, target_list, run_metadata)\u001b[0m\n\u001b[0;32m   1428\u001b[0m         \u001b[0mself\u001b[0m\u001b[1;33m.\u001b[0m\u001b[0m_session\u001b[0m\u001b[1;33m,\u001b[0m \u001b[0moptions\u001b[0m\u001b[1;33m,\u001b[0m \u001b[0mfeed_dict\u001b[0m\u001b[1;33m,\u001b[0m \u001b[0mfetch_list\u001b[0m\u001b[1;33m,\u001b[0m \u001b[0mtarget_list\u001b[0m\u001b[1;33m,\u001b[0m\u001b[1;33m\u001b[0m\u001b[1;33m\u001b[0m\u001b[0m\n\u001b[1;32m-> 1429\u001b[1;33m         run_metadata)\n\u001b[0m\u001b[0;32m   1430\u001b[0m \u001b[1;33m\u001b[0m\u001b[0m\n",
      "\u001b[1;31mNotFoundError\u001b[0m: Failed to create a directory: /tmp/earth_quake_predict/models/1; No such file or directory\n\t [[{{node save_2/SaveV2}}]]",
      "\nDuring handling of the above exception, another exception occurred:\n",
      "\u001b[1;31mNotFoundError\u001b[0m                             Traceback (most recent call last)",
      "\u001b[1;32m~\\Anaconda3\\envs\\tfp3.6\\lib\\site-packages\\tensorflow\\python\\training\\saver.py\u001b[0m in \u001b[0;36msave\u001b[1;34m(self, sess, save_path, global_step, latest_filename, meta_graph_suffix, write_meta_graph, write_state, strip_default_attrs, save_debug_info)\u001b[0m\n\u001b[0;32m   1172\u001b[0m               \u001b[0mself\u001b[0m\u001b[1;33m.\u001b[0m\u001b[0msaver_def\u001b[0m\u001b[1;33m.\u001b[0m\u001b[0msave_tensor_name\u001b[0m\u001b[1;33m,\u001b[0m\u001b[1;33m\u001b[0m\u001b[1;33m\u001b[0m\u001b[0m\n\u001b[1;32m-> 1173\u001b[1;33m               {self.saver_def.filename_tensor_name: checkpoint_file})\n\u001b[0m\u001b[0;32m   1174\u001b[0m \u001b[1;33m\u001b[0m\u001b[0m\n",
      "\u001b[1;32m~\\Anaconda3\\envs\\tfp3.6\\lib\\site-packages\\tensorflow\\python\\client\\session.py\u001b[0m in \u001b[0;36mrun\u001b[1;34m(self, fetches, feed_dict, options, run_metadata)\u001b[0m\n\u001b[0;32m    949\u001b[0m       result = self._run(None, fetches, feed_dict, options_ptr,\n\u001b[1;32m--> 950\u001b[1;33m                          run_metadata_ptr)\n\u001b[0m\u001b[0;32m    951\u001b[0m       \u001b[1;32mif\u001b[0m \u001b[0mrun_metadata\u001b[0m\u001b[1;33m:\u001b[0m\u001b[1;33m\u001b[0m\u001b[1;33m\u001b[0m\u001b[0m\n",
      "\u001b[1;32m~\\Anaconda3\\envs\\tfp3.6\\lib\\site-packages\\tensorflow\\python\\client\\session.py\u001b[0m in \u001b[0;36m_run\u001b[1;34m(self, handle, fetches, feed_dict, options, run_metadata)\u001b[0m\n\u001b[0;32m   1172\u001b[0m       results = self._do_run(handle, final_targets, final_fetches,\n\u001b[1;32m-> 1173\u001b[1;33m                              feed_dict_tensor, options, run_metadata)\n\u001b[0m\u001b[0;32m   1174\u001b[0m     \u001b[1;32melse\u001b[0m\u001b[1;33m:\u001b[0m\u001b[1;33m\u001b[0m\u001b[1;33m\u001b[0m\u001b[0m\n",
      "\u001b[1;32m~\\Anaconda3\\envs\\tfp3.6\\lib\\site-packages\\tensorflow\\python\\client\\session.py\u001b[0m in \u001b[0;36m_do_run\u001b[1;34m(self, handle, target_list, fetch_list, feed_dict, options, run_metadata)\u001b[0m\n\u001b[0;32m   1349\u001b[0m       return self._do_call(_run_fn, feeds, fetches, targets, options,\n\u001b[1;32m-> 1350\u001b[1;33m                            run_metadata)\n\u001b[0m\u001b[0;32m   1351\u001b[0m     \u001b[1;32melse\u001b[0m\u001b[1;33m:\u001b[0m\u001b[1;33m\u001b[0m\u001b[1;33m\u001b[0m\u001b[0m\n",
      "\u001b[1;32m~\\Anaconda3\\envs\\tfp3.6\\lib\\site-packages\\tensorflow\\python\\client\\session.py\u001b[0m in \u001b[0;36m_do_call\u001b[1;34m(self, fn, *args)\u001b[0m\n\u001b[0;32m   1369\u001b[0m       \u001b[0mmessage\u001b[0m \u001b[1;33m=\u001b[0m \u001b[0merror_interpolation\u001b[0m\u001b[1;33m.\u001b[0m\u001b[0minterpolate\u001b[0m\u001b[1;33m(\u001b[0m\u001b[0mmessage\u001b[0m\u001b[1;33m,\u001b[0m \u001b[0mself\u001b[0m\u001b[1;33m.\u001b[0m\u001b[0m_graph\u001b[0m\u001b[1;33m)\u001b[0m\u001b[1;33m\u001b[0m\u001b[1;33m\u001b[0m\u001b[0m\n\u001b[1;32m-> 1370\u001b[1;33m       \u001b[1;32mraise\u001b[0m \u001b[0mtype\u001b[0m\u001b[1;33m(\u001b[0m\u001b[0me\u001b[0m\u001b[1;33m)\u001b[0m\u001b[1;33m(\u001b[0m\u001b[0mnode_def\u001b[0m\u001b[1;33m,\u001b[0m \u001b[0mop\u001b[0m\u001b[1;33m,\u001b[0m \u001b[0mmessage\u001b[0m\u001b[1;33m)\u001b[0m\u001b[1;33m\u001b[0m\u001b[1;33m\u001b[0m\u001b[0m\n\u001b[0m\u001b[0;32m   1371\u001b[0m \u001b[1;33m\u001b[0m\u001b[0m\n",
      "\u001b[1;31mNotFoundError\u001b[0m: Failed to create a directory: /tmp/earth_quake_predict/models/1; No such file or directory\n\t [[node save_2/SaveV2 (defined at <ipython-input-38-d74f1c32c5b6>:2) ]]\n\nErrors may have originated from an input operation.\nInput Source operations connected to node save_2/SaveV2:\n FeedForward_layer_2/FeedForward_layer_2_bias (defined at <ipython-input-32-e3333ebde8ad>:22)\t\n Output_layer/Output_layer_weights/Adam (defined at <ipython-input-34-7aa320aeef6e>:10)\t\n Output_layer/Output_layer_bias (defined at <ipython-input-32-e3333ebde8ad>:42)\t\n FeedForward_layer_1/FeedForward_layer_1_bias (defined at <ipython-input-32-e3333ebde8ad>:12)\t\n FeedForward_layer_3/FeedForward_layer_3_weights (defined at <ipython-input-32-e3333ebde8ad>:31)\t\n Output_layer/Output_layer_weights (defined at <ipython-input-32-e3333ebde8ad>:41)\t\n FeedForward_layer_2/FeedForward_layer_2_weights (defined at <ipython-input-32-e3333ebde8ad>:21)\t\n FeedForward_layer_3/FeedForward_layer_3_bias (defined at <ipython-input-32-e3333ebde8ad>:32)\t\n FeedForward_layer_1/FeedForward_layer_1_weights (defined at <ipython-input-32-e3333ebde8ad>:11)\n\nOriginal stack trace for 'save_2/SaveV2':\n  File \"C:\\Users\\WALI\\Anaconda3\\envs\\tfp3.6\\lib\\runpy.py\", line 193, in _run_module_as_main\n    \"__main__\", mod_spec)\n  File \"C:\\Users\\WALI\\Anaconda3\\envs\\tfp3.6\\lib\\runpy.py\", line 85, in _run_code\n    exec(code, run_globals)\n  File \"C:\\Users\\WALI\\Anaconda3\\envs\\tfp3.6\\lib\\site-packages\\ipykernel_launcher.py\", line 16, in <module>\n    app.launch_new_instance()\n  File \"C:\\Users\\WALI\\Anaconda3\\envs\\tfp3.6\\lib\\site-packages\\traitlets\\config\\application.py\", line 658, in launch_instance\n    app.start()\n  File \"C:\\Users\\WALI\\Anaconda3\\envs\\tfp3.6\\lib\\site-packages\\ipykernel\\kernelapp.py\", line 477, in start\n    ioloop.IOLoop.instance().start()\n  File \"C:\\Users\\WALI\\Anaconda3\\envs\\tfp3.6\\lib\\site-packages\\zmq\\eventloop\\ioloop.py\", line 177, in start\n    super(ZMQIOLoop, self).start()\n  File \"C:\\Users\\WALI\\Anaconda3\\envs\\tfp3.6\\lib\\site-packages\\tornado\\ioloop.py\", line 888, in start\n    handler_func(fd_obj, events)\n  File \"C:\\Users\\WALI\\Anaconda3\\envs\\tfp3.6\\lib\\site-packages\\tornado\\stack_context.py\", line 277, in null_wrapper\n    return fn(*args, **kwargs)\n  File \"C:\\Users\\WALI\\Anaconda3\\envs\\tfp3.6\\lib\\site-packages\\zmq\\eventloop\\zmqstream.py\", line 440, in _handle_events\n    self._handle_recv()\n  File \"C:\\Users\\WALI\\Anaconda3\\envs\\tfp3.6\\lib\\site-packages\\zmq\\eventloop\\zmqstream.py\", line 472, in _handle_recv\n    self._run_callback(callback, msg)\n  File \"C:\\Users\\WALI\\Anaconda3\\envs\\tfp3.6\\lib\\site-packages\\zmq\\eventloop\\zmqstream.py\", line 414, in _run_callback\n    callback(*args, **kwargs)\n  File \"C:\\Users\\WALI\\Anaconda3\\envs\\tfp3.6\\lib\\site-packages\\tornado\\stack_context.py\", line 277, in null_wrapper\n    return fn(*args, **kwargs)\n  File \"C:\\Users\\WALI\\Anaconda3\\envs\\tfp3.6\\lib\\site-packages\\ipykernel\\kernelbase.py\", line 283, in dispatcher\n    return self.dispatch_shell(stream, msg)\n  File \"C:\\Users\\WALI\\Anaconda3\\envs\\tfp3.6\\lib\\site-packages\\ipykernel\\kernelbase.py\", line 235, in dispatch_shell\n    handler(stream, idents, msg)\n  File \"C:\\Users\\WALI\\Anaconda3\\envs\\tfp3.6\\lib\\site-packages\\ipykernel\\kernelbase.py\", line 399, in execute_request\n    user_expressions, allow_stdin)\n  File \"C:\\Users\\WALI\\Anaconda3\\envs\\tfp3.6\\lib\\site-packages\\ipykernel\\ipkernel.py\", line 196, in do_execute\n    res = shell.run_cell(code, store_history=store_history, silent=silent)\n  File \"C:\\Users\\WALI\\Anaconda3\\envs\\tfp3.6\\lib\\site-packages\\ipykernel\\zmqshell.py\", line 533, in run_cell\n    return super(ZMQInteractiveShell, self).run_cell(*args, **kwargs)\n  File \"C:\\Users\\WALI\\Anaconda3\\envs\\tfp3.6\\lib\\site-packages\\IPython\\core\\interactiveshell.py\", line 2698, in run_cell\n    interactivity=interactivity, compiler=compiler, result=result)\n  File \"C:\\Users\\WALI\\Anaconda3\\envs\\tfp3.6\\lib\\site-packages\\IPython\\core\\interactiveshell.py\", line 2802, in run_ast_nodes\n    if self.run_code(code, result):\n  File \"C:\\Users\\WALI\\Anaconda3\\envs\\tfp3.6\\lib\\site-packages\\IPython\\core\\interactiveshell.py\", line 2862, in run_code\n    exec(code_obj, self.user_global_ns, self.user_ns)\n  File \"<ipython-input-38-d74f1c32c5b6>\", line 2, in <module>\n    saver = tf.train.Saver()\n  File \"C:\\Users\\WALI\\Anaconda3\\envs\\tfp3.6\\lib\\site-packages\\tensorflow\\python\\training\\saver.py\", line 825, in __init__\n    self.build()\n  File \"C:\\Users\\WALI\\Anaconda3\\envs\\tfp3.6\\lib\\site-packages\\tensorflow\\python\\training\\saver.py\", line 837, in build\n    self._build(self._filename, build_save=True, build_restore=True)\n  File \"C:\\Users\\WALI\\Anaconda3\\envs\\tfp3.6\\lib\\site-packages\\tensorflow\\python\\training\\saver.py\", line 875, in _build\n    build_restore=build_restore)\n  File \"C:\\Users\\WALI\\Anaconda3\\envs\\tfp3.6\\lib\\site-packages\\tensorflow\\python\\training\\saver.py\", line 505, in _build_internal\n    save_tensor = self._AddSaveOps(filename_tensor, saveables)\n  File \"C:\\Users\\WALI\\Anaconda3\\envs\\tfp3.6\\lib\\site-packages\\tensorflow\\python\\training\\saver.py\", line 206, in _AddSaveOps\n    save = self.save_op(filename_tensor, saveables)\n  File \"C:\\Users\\WALI\\Anaconda3\\envs\\tfp3.6\\lib\\site-packages\\tensorflow\\python\\training\\saver.py\", line 122, in save_op\n    tensors)\n  File \"C:\\Users\\WALI\\Anaconda3\\envs\\tfp3.6\\lib\\site-packages\\tensorflow\\python\\ops\\gen_io_ops.py\", line 2059, in save_v2\n    name=name)\n  File \"C:\\Users\\WALI\\Anaconda3\\envs\\tfp3.6\\lib\\site-packages\\tensorflow\\python\\framework\\op_def_library.py\", line 788, in _apply_op_helper\n    op_def=op_def)\n  File \"C:\\Users\\WALI\\Anaconda3\\envs\\tfp3.6\\lib\\site-packages\\tensorflow\\python\\util\\deprecation.py\", line 507, in new_func\n    return func(*args, **kwargs)\n  File \"C:\\Users\\WALI\\Anaconda3\\envs\\tfp3.6\\lib\\site-packages\\tensorflow\\python\\framework\\ops.py\", line 3616, in create_op\n    op_def=op_def)\n  File \"C:\\Users\\WALI\\Anaconda3\\envs\\tfp3.6\\lib\\site-packages\\tensorflow\\python\\framework\\ops.py\", line 2005, in __init__\n    self._traceback = tf_stack.extract_stack()\n",
      "\nDuring handling of the above exception, another exception occurred:\n",
      "\u001b[1;31mValueError\u001b[0m                                Traceback (most recent call last)",
      "\u001b[1;32m<ipython-input-38-d74f1c32c5b6>\u001b[0m in \u001b[0;36m<module>\u001b[1;34m()\u001b[0m\n\u001b[0;32m     42\u001b[0m     \u001b[0mtrain_writer\u001b[0m\u001b[1;33m.\u001b[0m\u001b[0mclose\u001b[0m\u001b[1;33m(\u001b[0m\u001b[1;33m)\u001b[0m\u001b[1;33m\u001b[0m\u001b[1;33m\u001b[0m\u001b[0m\n\u001b[0;32m     43\u001b[0m     \u001b[1;31m# Save the variables to disk.\u001b[0m\u001b[1;33m\u001b[0m\u001b[1;33m\u001b[0m\u001b[1;33m\u001b[0m\u001b[0m\n\u001b[1;32m---> 44\u001b[1;33m     \u001b[0msave_path\u001b[0m \u001b[1;33m=\u001b[0m \u001b[0msaver\u001b[0m\u001b[1;33m.\u001b[0m\u001b[0msave\u001b[0m\u001b[1;33m(\u001b[0m\u001b[0msess\u001b[0m\u001b[1;33m,\u001b[0m \u001b[0mmodel_dir\u001b[0m\u001b[1;33m+\u001b[0m\u001b[1;34m\"earthquake_model.ckpt\"\u001b[0m\u001b[1;33m)\u001b[0m\u001b[1;33m\u001b[0m\u001b[1;33m\u001b[0m\u001b[0m\n\u001b[0m\u001b[0;32m     45\u001b[0m     \u001b[0mprint\u001b[0m\u001b[1;33m(\u001b[0m\u001b[1;34m\"Model saved in file: %s\"\u001b[0m \u001b[1;33m%\u001b[0m \u001b[0msave_path\u001b[0m\u001b[1;33m)\u001b[0m\u001b[1;33m\u001b[0m\u001b[1;33m\u001b[0m\u001b[0m\n\u001b[0;32m     46\u001b[0m \u001b[1;33m\u001b[0m\u001b[0m\n",
      "\u001b[1;32m~\\Anaconda3\\envs\\tfp3.6\\lib\\site-packages\\tensorflow\\python\\training\\saver.py\u001b[0m in \u001b[0;36msave\u001b[1;34m(self, sess, save_path, global_step, latest_filename, meta_graph_suffix, write_meta_graph, write_state, strip_default_attrs, save_debug_info)\u001b[0m\n\u001b[0;32m   1188\u001b[0m               \"Parent directory of {} doesn't exist, can't save.\".format(\n\u001b[0;32m   1189\u001b[0m                   save_path))\n\u001b[1;32m-> 1190\u001b[1;33m         \u001b[1;32mraise\u001b[0m \u001b[0mexc\u001b[0m\u001b[1;33m\u001b[0m\u001b[1;33m\u001b[0m\u001b[0m\n\u001b[0m\u001b[0;32m   1191\u001b[0m \u001b[1;33m\u001b[0m\u001b[0m\n\u001b[0;32m   1192\u001b[0m     \u001b[1;32mif\u001b[0m \u001b[0mwrite_meta_graph\u001b[0m\u001b[1;33m:\u001b[0m\u001b[1;33m\u001b[0m\u001b[1;33m\u001b[0m\u001b[0m\n",
      "\u001b[1;31mValueError\u001b[0m: Parent directory of /tmp/earth_quake_predict/models/1/earthquake_model.ckpt doesn't exist, can't save."
     ]
    }
   ],
   "source": [
    "#Operation to save variables\n",
    "saver = tf.train.Saver()\n",
    "#Initialization and session\n",
    "init = tf.global_variables_initializer()\n",
    "log_iterations = 0\n",
    "tstart = time.time()\n",
    "with tf.Session() as sess:\n",
    "    train_writer = tf.summary.FileWriter(summaries_dir+\"/1/\",sess.graph)  #For writing summaries\n",
    "    sess.run(init)\n",
    "    \n",
    "    #Normalize training data\n",
    "    #InputX1_norm = sess.run(normalize_raw_data,feed_dict={raw_data:InputX1})\n",
    "    #InputY1_norm = sess.run(normalize_raw_data,feed_dict={raw_data:InputY1})\n",
    "   \n",
    "    \n",
    "    InputX1train = sess.run(Xtrain,feed_dict={X:InputX1})\n",
    "    InputY1train = sess.run(Ytrain,feed_dict={Y:InputY1})\n",
    "    InputX1v = sess.run(Xv,feed_dict={X:InputX1})\n",
    "    InputY1v = sess.run(Yv,feed_dict={Y:InputY1})\n",
    "    \n",
    "    print(\"Normalized training input:\\n\",InputX1train)\n",
    "    print(\"Normalized training output:\\n\",InputY1train)\n",
    "    print(\"Validation input:\\n\",InputX1v)\n",
    "    print(\"Validation output:\\n\",InputY1v)\n",
    "    \n",
    "    print(\"Initial training loss:\",sess.run(mean_square_error,feed_dict={X:InputX1train,Y:InputY1train}))\n",
    "    print(\"Initial validation loss:\",sess.run([mean_square_error],feed_dict={X:InputX1v,Y:InputY1v}))\n",
    "        \n",
    "    for i in range(training_epochs):\n",
    "        sess.run([train_step],feed_dict={X:InputX1train,Y:InputY1train})\n",
    "        if i%display_epoch ==0:\n",
    "            print(\"Training loss is:\",sess.run([mean_square_error],feed_dict={X:InputX1train,Y:InputY1train}),\"at itertion:\",i)\n",
    "            print(\"Validation loss is:\",sess.run([mean_square_error],feed_dict={X:InputX1v,Y:InputY1v}),\"at itertion:\",i)\n",
    "        if i%log_epoch ==0:\n",
    "            summary,_ = sess.run([merged,mean_square_error],feed_dict={X:InputX1train,Y:InputY1train})\n",
    "            train_writer.add_summary(summary, log_iterations)\n",
    "            valid_summary,_ = sess.run([valid_merged,mean_square_error],feed_dict={X:InputX1v,Y:InputY1v})\n",
    "            train_writer.add_summary(valid_summary, log_iterations)\n",
    "            log_iterations = log_iterations +1\n",
    "            \n",
    "    #Close summary writer\n",
    "    train_writer.close()\n",
    "    # Save the variables to disk.\n",
    "    save_path = saver.save(sess, model_dir+\"earthquake_model.ckpt\")\n",
    "    print(\"Model saved in file: %s\" % save_path)\n",
    "\n",
    "    print(\"Final training loss:\",sess.run([mean_square_error],feed_dict={X:InputX1train,Y:InputY1train}))\n",
    "    print(\"Final validation loss:\",sess.run([mean_square_error],feed_dict={X:InputX1v,Y:InputY1v}))\n",
    "    Ypredict = sess.run(output_layer,feed_dict={X:InputX1v})\n",
    "    print(Ypredict)\n",
    "print(\"Time taken:\", (time.time()-tstart)/60)\n",
    "print(\"Number of summaries:\",log_iterations)"
   ]
  },
  {
   "cell_type": "code",
   "execution_count": null,
   "metadata": {},
   "outputs": [],
   "source": [
    "#Testing\n",
    "df2=pd.read_csv('C:/Users/WALI/Desktop/Earthquake_predict-master/earthquake_data.csv')\n",
    "col1 = df2[['Latitude','Longitude','Depth']]   #Extract input data\n",
    "col2 = df1['Magnitude']   \n",
    "#Convert to Numpy array\n",
    "InputX = col1.as_matrix()\n",
    "InputY = col2.as_matrix()\n",
    "\n",
    "#Convert to float data type\n",
    "InputX.astype(float, copy=False)\n",
    "InputY.astype(float, copy=False)\n",
    "#Determine shape of  test input data\n",
    "print(\"Shape of testing input:\",InputX.shape)\n",
    "print(\"Shape of testing input:\",InputY.shape)\n",
    "test_batch_size = InputY.shape[0]          #Number of testing samples\n",
    "#Reshape\n",
    "InputX = np.resize(InputX,(test_batch_size,Xfeatures))\n",
    "InputY = np.resize(InputY,(test_batch_size,Yfeatures))"
   ]
  },
  {
   "cell_type": "code",
   "execution_count": null,
   "metadata": {
    "collapsed": true
   },
   "outputs": [],
   "source": []
  }
 ],
 "metadata": {
  "kernelspec": {
   "display_name": "Python 3",
   "language": "python",
   "name": "python3"
  },
  "language_info": {
   "codemirror_mode": {
    "name": "ipython",
    "version": 3
   },
   "file_extension": ".py",
   "mimetype": "text/x-python",
   "name": "python",
   "nbconvert_exporter": "python",
   "pygments_lexer": "ipython3",
   "version": "3.6.8"
  }
 },
 "nbformat": 4,
 "nbformat_minor": 2
}
