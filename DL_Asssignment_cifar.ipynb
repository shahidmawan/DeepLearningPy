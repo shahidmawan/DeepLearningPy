{
 "cells": [
  {
   "cell_type": "code",
   "execution_count": null,
   "metadata": {
    "colab": {},
    "colab_type": "code",
    "collapsed": true,
    "id": "rRuJWWpzdnGV"
   },
   "outputs": [],
   "source": [
    "import keras\n",
    "import pandas as pd\n",
    "import numpy as np\n",
    "from keras.datasets import cifar10 \n",
    "from keras.models import Sequential,Input,Model\n",
    "from keras.layers import Dense, Dropout, Flatten, BatchNormalization\n",
    "from keras.layers import Conv2D, MaxPooling2D\n",
    "from keras.layers.normalization import BatchNormalization\n",
    "from keras.layers.advanced_activations import LeakyReLU\n",
    "from sklearn.model_selection import train_test_split\n",
    "from keras.utils import to_categorical\n",
    "import matplotlib.pyplot as plt"
   ]
  },
  {
   "cell_type": "code",
   "execution_count": 0,
   "metadata": {
    "colab": {},
    "colab_type": "code",
    "collapsed": true,
    "id": "wGNvDNoednGq"
   },
   "outputs": [],
   "source": [
    "#Loading Cifar10 Dataset\n",
    "(x_train, y_train),(x_test,y_test)=cifar10.load_data()"
   ]
  },
  {
   "cell_type": "code",
   "execution_count": 4,
   "metadata": {
    "colab": {
     "base_uri": "https://localhost:8080/",
     "height": 34
    },
    "colab_type": "code",
    "executionInfo": {
     "elapsed": 12336,
     "status": "ok",
     "timestamp": 1560610557431,
     "user": {
      "displayName": "Mehwish Ghafoor",
      "photoUrl": "",
      "userId": "07860451204213010481"
     },
     "user_tz": -300
    },
    "id": "ZWyOsMbFdnGu",
    "outputId": "6c952e58-777a-496c-8ae9-62416c113b87"
   },
   "outputs": [
    {
     "data": {
      "text/plain": [
       "(50000, 32, 32, 3)"
      ]
     },
     "execution_count": 4,
     "metadata": {
      "tags": []
     },
     "output_type": "execute_result"
    }
   ],
   "source": [
    "x_train.shape"
   ]
  },
  {
   "cell_type": "code",
   "execution_count": 0,
   "metadata": {
    "colab": {},
    "colab_type": "code",
    "collapsed": true,
    "id": "BPpYPl7xdnIH"
   },
   "outputs": [],
   "source": [
    "X_train = x_train\n",
    "test_X = x_test"
   ]
  },
  {
   "cell_type": "code",
   "execution_count": 6,
   "metadata": {
    "colab": {
     "base_uri": "https://localhost:8080/",
     "height": 34
    },
    "colab_type": "code",
    "executionInfo": {
     "elapsed": 1137,
     "status": "ok",
     "timestamp": 1560610570157,
     "user": {
      "displayName": "Mehwish Ghafoor",
      "photoUrl": "",
      "userId": "07860451204213010481"
     },
     "user_tz": -300
    },
    "id": "UDAxeoldhzBc",
    "outputId": "e909de39-33fb-4395-d0d3-dd8ba84878de"
   },
   "outputs": [
    {
     "name": "stdout",
     "output_type": "stream",
     "text": [
      "[4]\n"
     ]
    }
   ],
   "source": [
    "print(y_test[100])"
   ]
  },
  {
   "cell_type": "code",
   "execution_count": 7,
   "metadata": {
    "colab": {
     "base_uri": "https://localhost:8080/",
     "height": 34
    },
    "colab_type": "code",
    "executionInfo": {
     "elapsed": 1132,
     "status": "ok",
     "timestamp": 1560610572138,
     "user": {
      "displayName": "Mehwish Ghafoor",
      "photoUrl": "",
      "userId": "07860451204213010481"
     },
     "user_tz": -300
    },
    "id": "q9WGD_9imy7J",
    "outputId": "f4d8fdee-287a-49cc-84dd-8b022903e06f"
   },
   "outputs": [
    {
     "data": {
      "text/plain": [
       "(10000, 1)"
      ]
     },
     "execution_count": 7,
     "metadata": {
      "tags": []
     },
     "output_type": "execute_result"
    }
   ],
   "source": [
    "y_test.shape"
   ]
  },
  {
   "cell_type": "code",
   "execution_count": 0,
   "metadata": {
    "colab": {},
    "colab_type": "code",
    "collapsed": true,
    "id": "8iwVxmjDiyVW"
   },
   "outputs": [],
   "source": [
    "#One Hot Encoding\n",
    "test_Y = to_categorical(y_test)\n",
    "Y_train = to_categorical(y_train)"
   ]
  },
  {
   "cell_type": "code",
   "execution_count": 14,
   "metadata": {
    "colab": {
     "base_uri": "https://localhost:8080/",
     "height": 34
    },
    "colab_type": "code",
    "executionInfo": {
     "elapsed": 1439,
     "status": "ok",
     "timestamp": 1560610626026,
     "user": {
      "displayName": "Mehwish Ghafoor",
      "photoUrl": "",
      "userId": "07860451204213010481"
     },
     "user_tz": -300
    },
    "id": "tICtZZ1njozq",
    "outputId": "4e6dc0f8-96b5-4d29-f1ad-0cfb10c211dc"
   },
   "outputs": [
    {
     "data": {
      "text/plain": [
       "array([0., 0., 0., 0., 1., 0., 0., 0., 0., 0.], dtype=float32)"
      ]
     },
     "execution_count": 14,
     "metadata": {
      "tags": []
     },
     "output_type": "execute_result"
    }
   ],
   "source": [
    "test_Y[100]"
   ]
  },
  {
   "cell_type": "code",
   "execution_count": 15,
   "metadata": {
    "colab": {
     "base_uri": "https://localhost:8080/",
     "height": 286
    },
    "colab_type": "code",
    "executionInfo": {
     "elapsed": 1567,
     "status": "ok",
     "timestamp": 1560610626859,
     "user": {
      "displayName": "Mehwish Ghafoor",
      "photoUrl": "",
      "userId": "07860451204213010481"
     },
     "user_tz": -300
    },
    "id": "Pr4rFwt0lZj_",
    "outputId": "35b14788-bc9a-4069-d2de-b29b26cd1b87"
   },
   "outputs": [
    {
     "data": {
      "image/png": "[encoded data removed]",
      "text/plain": [
       "<Figure size 432x288 with 1 Axes>"
      ]
     },
     "metadata": {
      "tags": []
     },
     "output_type": "display_data"
    },
    {
     "data": {
      "text/plain": [
       "array([0., 0., 0., 0., 0., 0., 1., 0., 0., 0.], dtype=float32)"
      ]
     },
     "execution_count": 15,
     "metadata": {
      "tags": []
     },
     "output_type": "execute_result"
    }
   ],
   "source": [
    "plt.imshow(X_train[0])\n",
    "plt.show()\n",
    "Y_train[0]"
   ]
  },
  {
   "cell_type": "code",
   "execution_count": 0,
   "metadata": {
    "colab": {},
    "colab_type": "code",
    "collapsed": true,
    "id": "KOee6tmsm5wQ"
   },
   "outputs": [],
   "source": []
  },
  {
   "cell_type": "code",
   "execution_count": 16,
   "metadata": {
    "colab": {
     "base_uri": "https://localhost:8080/",
     "height": 286
    },
    "colab_type": "code",
    "executionInfo": {
     "elapsed": 1751,
     "status": "ok",
     "timestamp": 1560610628519,
     "user": {
      "displayName": "Mehwish Ghafoor",
      "photoUrl": "",
      "userId": "07860451204213010481"
     },
     "user_tz": -300
    },
    "id": "m5FalR1LnPMv",
    "outputId": "38d9cb20-467b-4fba-fdae-5a13d9d0f011"
   },
   "outputs": [
    {
     "data": {
      "image/png": "[encoded data removed]",
      "text/plain": [
       "<Figure size 432x288 with 1 Axes>"
      ]
     },
     "metadata": {
      "tags": []
     },
     "output_type": "display_data"
    },
    {
     "data": {
      "text/plain": [
       "array([0., 0., 0., 0., 0., 0., 1., 0., 0., 0.], dtype=float32)"
      ]
     },
     "execution_count": 16,
     "metadata": {
      "tags": []
     },
     "output_type": "execute_result"
    }
   ],
   "source": [
    "plt.imshow(X_train[0])\n",
    "plt.show()\n",
    "Y_train[0]"
   ]
  },
  {
   "cell_type": "code",
   "execution_count": 0,
   "metadata": {
    "colab": {},
    "colab_type": "code",
    "collapsed": true,
    "id": "ZbtHRaebjsMU"
   },
   "outputs": [],
   "source": [
    "#Creating Validation Data\n",
    "  train_X,val_X, train_Y, val_Y = train_test_split(X_train, Y_train, test_size=0.3)"
   ]
  },
  {
   "cell_type": "code",
   "execution_count": 18,
   "metadata": {
    "colab": {
     "base_uri": "https://localhost:8080/",
     "height": 269
    },
    "colab_type": "code",
    "executionInfo": {
     "elapsed": 1497,
     "status": "ok",
     "timestamp": 1560610635057,
     "user": {
      "displayName": "Mehwish Ghafoor",
      "photoUrl": "",
      "userId": "07860451204213010481"
     },
     "user_tz": -300
    },
    "id": "SkNu0muYuUFL",
    "outputId": "9107c86c-308e-44d3-d632-349b3d7654d3"
   },
   "outputs": [
    {
     "data": {
      "image/png": "[encoded data removed]",
      "text/plain": [
       "<Figure size 432x288 with 1 Axes>"
      ]
     },
     "metadata": {
      "tags": []
     },
     "output_type": "display_data"
    }
   ],
   "source": [
    "plt.imshow(X_train[500])\n",
    "plt.show()"
   ]
  },
  {
   "cell_type": "code",
   "execution_count": 21,
   "metadata": {
    "colab": {
     "base_uri": "https://localhost:8080/",
     "height": 373
    },
    "colab_type": "code",
    "executionInfo": {
     "elapsed": 3994,
     "status": "ok",
     "timestamp": 1560610667224,
     "user": {
      "displayName": "Mehwish Ghafoor",
      "photoUrl": "",
      "userId": "07860451204213010481"
     },
     "user_tz": -300
    },
    "id": "8JjvEp6hlNN1",
    "outputId": "981c32cd-43c7-4d49-a64b-0011de488eb5"
   },
   "outputs": [
    {
     "name": "stderr",
     "output_type": "stream",
     "text": [
      "WARNING: Logging before flag parsing goes to stderr.\n",
      "W0615 14:57:43.742175 139871819880320 deprecation_wrapper.py:119] From /usr/local/lib/python3.6/dist-packages/keras/backend/tensorflow_backend.py:74: The name tf.get_default_graph is deprecated. Please use tf.compat.v1.get_default_graph instead.\n",
      "\n",
      "/usr/local/lib/python3.6/dist-packages/keras/activations.py:211: UserWarning: Do not pass a layer instance (such as LeakyReLU) as the activation argument of another layer. Instead, advanced activation layers should be used just like any other layer in a model.\n",
      "  identifier=identifier.__class__.__name__))\n",
      "W0615 14:57:43.780050 139871819880320 deprecation_wrapper.py:119] From /usr/local/lib/python3.6/dist-packages/keras/backend/tensorflow_backend.py:517: The name tf.placeholder is deprecated. Please use tf.compat.v1.placeholder instead.\n",
      "\n",
      "W0615 14:57:43.786445 139871819880320 deprecation_wrapper.py:119] From /usr/local/lib/python3.6/dist-packages/keras/backend/tensorflow_backend.py:4185: The name tf.truncated_normal is deprecated. Please use tf.random.truncated_normal instead.\n",
      "\n",
      "W0615 14:57:43.826203 139871819880320 deprecation_wrapper.py:119] From /usr/local/lib/python3.6/dist-packages/keras/backend/tensorflow_backend.py:174: The name tf.get_default_session is deprecated. Please use tf.compat.v1.get_default_session instead.\n",
      "\n",
      "W0615 14:57:43.827270 139871819880320 deprecation_wrapper.py:119] From /usr/local/lib/python3.6/dist-packages/keras/backend/tensorflow_backend.py:181: The name tf.ConfigProto is deprecated. Please use tf.compat.v1.ConfigProto instead.\n",
      "\n",
      "W0615 14:57:46.425263 139871819880320 deprecation_wrapper.py:119] From /usr/local/lib/python3.6/dist-packages/keras/backend/tensorflow_backend.py:1834: The name tf.nn.fused_batch_norm is deprecated. Please use tf.compat.v1.nn.fused_batch_norm instead.\n",
      "\n",
      "W0615 14:57:46.511780 139871819880320 deprecation_wrapper.py:119] From /usr/local/lib/python3.6/dist-packages/keras/backend/tensorflow_backend.py:3976: The name tf.nn.max_pool is deprecated. Please use tf.nn.max_pool2d instead.\n",
      "\n",
      "W0615 14:57:46.520720 139871819880320 deprecation.py:506] From /usr/local/lib/python3.6/dist-packages/keras/backend/tensorflow_backend.py:3445: calling dropout (from tensorflow.python.ops.nn_ops) with keep_prob is deprecated and will be removed in a future version.\n",
      "Instructions for updating:\n",
      "Please use `rate` instead of `keep_prob`. Rate should be set to `rate = 1 - keep_prob`.\n"
     ]
    }
   ],
   "source": [
    "cifar10_model = Sequential()\n",
    "cifar10_model.add(Conv2D(32, kernel_size=(5,5),activation=LeakyReLU(alpha=0.1),kernel_initializer='he_normal',input_shape=(32,32,3),padding='same'))\n",
    "cifar10_model.add(BatchNormalization())\n",
    "cifar10_model.add(Conv2D(64, (5, 5), activation=LeakyReLU(alpha=0.1),padding='same'))\n",
    "cifar10_model.add(LeakyReLU(alpha=0.1))\n",
    "cifar10_model.add(MaxPooling2D(pool_size=(2, 2),padding='same'))\n",
    "cifar10_model.add(Dropout(0.2))\n",
    "\n",
    "cifar10_model.add(Conv2D(128, (5, 5), activation=LeakyReLU(alpha=0.1),padding='same'))\n",
    "cifar10_model.add(Conv2D(128, (5, 5), activation=LeakyReLU(alpha=0.1),padding='same'))\n",
    "\n",
    "cifar10_model.add(LeakyReLU(alpha=0.1))                  \n",
    "cifar10_model.add(MaxPooling2D(pool_size=(2, 2),padding='same'))\n",
    "cifar10_model.add(Dropout(0.2))\n",
    "cifar10_model.add(Conv2D(256, (5, 5), activation=LeakyReLU(alpha=0.1),padding='same'))\n",
    "cifar10_model.add(Conv2D(256, (5, 5), activation=LeakyReLU(alpha=0.1),padding='same'))\n",
    "\n",
    "cifar10_model.add(LeakyReLU(alpha=0.1))                  \n",
    "cifar10_model.add(MaxPooling2D(pool_size=(2, 2),padding='same'))\n",
    "cifar10_model.add(Flatten())\n",
    "cifar10_model.add(Dense(512, activation=LeakyReLU(alpha=0.1)))\n",
    "cifar10_model.add(Dense(256, activation=LeakyReLU(alpha=0.1)))\n",
    "cifar10_model.add(Dropout(0.3))\n",
    "#cifar10_model.add(LeakyReLU(alpha=0.1))  \n",
    "cifar10_model.add(Dense(10, activation='softmax'))"
   ]
  },
  {
   "cell_type": "code",
   "execution_count": 22,
   "metadata": {
    "colab": {
     "base_uri": "https://localhost:8080/",
     "height": 70
    },
    "colab_type": "code",
    "executionInfo": {
     "elapsed": 2120,
     "status": "ok",
     "timestamp": 1560610678581,
     "user": {
      "displayName": "Mehwish Ghafoor",
      "photoUrl": "",
      "userId": "07860451204213010481"
     },
     "user_tz": -300
    },
    "id": "csOrp-rToaSF",
    "outputId": "9f92c503-1e3f-450b-cb9e-d2b2c98215b0"
   },
   "outputs": [
    {
     "name": "stderr",
     "output_type": "stream",
     "text": [
      "W0615 14:57:57.016926 139871819880320 deprecation_wrapper.py:119] From /usr/local/lib/python3.6/dist-packages/keras/optimizers.py:790: The name tf.train.Optimizer is deprecated. Please use tf.compat.v1.train.Optimizer instead.\n",
      "\n"
     ]
    }
   ],
   "source": [
    "sgd = keras.optimizers.SGD(lr=0.001, decay=1e-4, momentum=0.9, nesterov=True)\n",
    "cifar10_model.compile(loss=keras.losses.categorical_crossentropy, optimizer=sgd,metrics=['accuracy'])"
   ]
  },
  {
   "cell_type": "code",
   "execution_count": 23,
   "metadata": {
    "colab": {
     "base_uri": "https://localhost:8080/",
     "height": 272
    },
    "colab_type": "code",
    "executionInfo": {
     "elapsed": 136714,
     "status": "ok",
     "timestamp": 1560610822434,
     "user": {
      "displayName": "Mehwish Ghafoor",
      "photoUrl": "",
      "userId": "07860451204213010481"
     },
     "user_tz": -300
    },
    "id": "uUJSGZGaqsWc",
    "outputId": "ca0f7f6c-00a0-4df8-af3e-dff57e936d9f"
   },
   "outputs": [
    {
     "name": "stderr",
     "output_type": "stream",
     "text": [
      "W0615 14:58:06.323321 139871819880320 deprecation.py:323] From /usr/local/lib/python3.6/dist-packages/tensorflow/python/ops/math_grad.py:1250: add_dispatch_support.<locals>.wrapper (from tensorflow.python.ops.array_ops) is deprecated and will be removed in a future version.\n",
      "Instructions for updating:\n",
      "Use tf.where in 2.0, which has the same broadcast rule as np.where\n"
     ]
    },
    {
     "name": "stdout",
     "output_type": "stream",
     "text": [
      "Train on 35000 samples, validate on 15000 samples\n",
      "Epoch 1/5\n",
      "35000/35000 [==============================] - 30s 865us/step - loss: 1.6829 - acc: 0.3783 - val_loss: 1.3800 - val_acc: 0.4988\n",
      "Epoch 2/5\n",
      "35000/35000 [==============================] - 26s 740us/step - loss: 1.2950 - acc: 0.5378 - val_loss: 1.1489 - val_acc: 0.5825\n",
      "Epoch 3/5\n",
      "35000/35000 [==============================] - 26s 746us/step - loss: 1.0931 - acc: 0.6149 - val_loss: 1.0114 - val_acc: 0.6393\n",
      "Epoch 4/5\n",
      "35000/35000 [==============================] - 26s 755us/step - loss: 0.9499 - acc: 0.6669 - val_loss: 0.9006 - val_acc: 0.6780\n",
      "Epoch 5/5\n",
      "35000/35000 [==============================] - 26s 753us/step - loss: 0.8308 - acc: 0.7085 - val_loss: 0.8768 - val_acc: 0.6881\n"
     ]
    }
   ],
   "source": [
    "model_train = cifar10_model.fit(train_X, train_Y, batch_size=30,epochs=5,verbose=1,validation_data=(val_X, val_Y))"
   ]
  },
  {
   "cell_type": "code",
   "execution_count": 24,
   "metadata": {
    "colab": {
     "base_uri": "https://localhost:8080/",
     "height": 34
    },
    "colab_type": "code",
    "executionInfo": {
     "elapsed": 3268,
     "status": "ok",
     "timestamp": 1560610829467,
     "user": {
      "displayName": "Mehwish Ghafoor",
      "photoUrl": "",
      "userId": "07860451204213010481"
     },
     "user_tz": -300
    },
    "id": "W_7yuSDarKMF",
    "outputId": "97695c43-63f8-41c6-a3ad-31939b7e4f17"
   },
   "outputs": [
    {
     "name": "stdout",
     "output_type": "stream",
     "text": [
      "10000/10000 [==============================] - 2s 235us/step\n"
     ]
    }
   ],
   "source": [
    "#Test Model\n",
    "test_model = cifar10_model.evaluate(test_X, test_Y, verbose=1)"
   ]
  },
  {
   "cell_type": "code",
   "execution_count": 25,
   "metadata": {
    "colab": {
     "base_uri": "https://localhost:8080/",
     "height": 50
    },
    "colab_type": "code",
    "executionInfo": {
     "elapsed": 1256,
     "status": "ok",
     "timestamp": 1560610830831,
     "user": {
      "displayName": "Mehwish Ghafoor",
      "photoUrl": "",
      "userId": "07860451204213010481"
     },
     "user_tz": -300
    },
    "id": "DpGDZQm5r9x1",
    "outputId": "f0b3d731-e066-4ad9-8864-46fe244577e0"
   },
   "outputs": [
    {
     "name": "stdout",
     "output_type": "stream",
     "text": [
      "Accuracy: 68.21000000000001\n",
      "Loss: 0.9021784379005432\n"
     ]
    }
   ],
   "source": [
    "print(\"Accuracy:\",test_model[1]*100)\n",
    "print(\"Loss:\",test_model[0])"
   ]
  },
  {
   "cell_type": "code",
   "execution_count": 0,
   "metadata": {
    "colab": {},
    "colab_type": "code",
    "collapsed": true,
    "id": "XYgzlJyImLue"
   },
   "outputs": [],
   "source": [
    "#pred=cifar10_model.predict_classes(test_X, verbose=1)"
   ]
  },
  {
   "cell_type": "code",
   "execution_count": 27,
   "metadata": {
    "colab": {
     "base_uri": "https://localhost:8080/",
     "height": 857
    },
    "colab_type": "code",
    "executionInfo": {
     "elapsed": 1507,
     "status": "ok",
     "timestamp": 1560610835928,
     "user": {
      "displayName": "Mehwish Ghafoor",
      "photoUrl": "",
      "userId": "07860451204213010481"
     },
     "user_tz": -300
    },
    "id": "mrh6TSZaqlUt",
    "outputId": "e62aec14-3531-43a9-bb33-746c7b665000"
   },
   "outputs": [
    {
     "name": "stdout",
     "output_type": "stream",
     "text": [
      "_________________________________________________________________\n",
      "Layer (type)                 Output Shape              Param #   \n",
      "=================================================================\n",
      "conv2d_1 (Conv2D)            (None, 32, 32, 32)        2432      \n",
      "_________________________________________________________________\n",
      "batch_normalization_1 (Batch (None, 32, 32, 32)        128       \n",
      "_________________________________________________________________\n",
      "conv2d_2 (Conv2D)            (None, 32, 32, 64)        51264     \n",
      "_________________________________________________________________\n",
      "leaky_re_lu_3 (LeakyReLU)    (None, 32, 32, 64)        0         \n",
      "_________________________________________________________________\n",
      "max_pooling2d_1 (MaxPooling2 (None, 16, 16, 64)        0         \n",
      "_________________________________________________________________\n",
      "dropout_1 (Dropout)          (None, 16, 16, 64)        0         \n",
      "_________________________________________________________________\n",
      "conv2d_3 (Conv2D)            (None, 16, 16, 128)       204928    \n",
      "_________________________________________________________________\n",
      "conv2d_4 (Conv2D)            (None, 16, 16, 128)       409728    \n",
      "_________________________________________________________________\n",
      "leaky_re_lu_6 (LeakyReLU)    (None, 16, 16, 128)       0         \n",
      "_________________________________________________________________\n",
      "max_pooling2d_2 (MaxPooling2 (None, 8, 8, 128)         0         \n",
      "_________________________________________________________________\n",
      "dropout_2 (Dropout)          (None, 8, 8, 128)         0         \n",
      "_________________________________________________________________\n",
      "conv2d_5 (Conv2D)            (None, 8, 8, 256)         819456    \n",
      "_________________________________________________________________\n",
      "conv2d_6 (Conv2D)            (None, 8, 8, 256)         1638656   \n",
      "_________________________________________________________________\n",
      "leaky_re_lu_9 (LeakyReLU)    (None, 8, 8, 256)         0         \n",
      "_________________________________________________________________\n",
      "max_pooling2d_3 (MaxPooling2 (None, 4, 4, 256)         0         \n",
      "_________________________________________________________________\n",
      "flatten_1 (Flatten)          (None, 4096)              0         \n",
      "_________________________________________________________________\n",
      "dense_1 (Dense)              (None, 512)               2097664   \n",
      "_________________________________________________________________\n",
      "dense_2 (Dense)              (None, 256)               131328    \n",
      "_________________________________________________________________\n",
      "dropout_3 (Dropout)          (None, 256)               0         \n",
      "_________________________________________________________________\n",
      "dense_3 (Dense)              (None, 10)                2570      \n",
      "=================================================================\n",
      "Total params: 5,358,154\n",
      "Trainable params: 5,358,090\n",
      "Non-trainable params: 64\n",
      "_________________________________________________________________\n",
      "None\n",
      "Accuracy: 68.21000000000001\n",
      "Loss: 0.9021784379005432\n"
     ]
    }
   ],
   "source": [
    "print(cifar10_model.summary())\n",
    "print(\"Accuracy:\",test_model[1]*100)\n",
    "print(\"Loss:\",test_model[0])"
   ]
  },
  {
   "cell_type": "code",
   "execution_count": 28,
   "metadata": {
    "colab": {
     "base_uri": "https://localhost:8080/",
     "height": 574
    },
    "colab_type": "code",
    "executionInfo": {
     "elapsed": 2204,
     "status": "ok",
     "timestamp": 1560610841932,
     "user": {
      "displayName": "Mehwish Ghafoor",
      "photoUrl": "",
      "userId": "07860451204213010481"
     },
     "user_tz": -300
    },
    "id": "N_WlCQ80sC6z",
    "outputId": "904b873a-dab3-48b9-9b5a-98347cb22524"
   },
   "outputs": [
    {
     "data": {
      "image/png": "[encoded data removed]",
      "text/plain": [
       "<Figure size 576x288 with 1 Axes>"
      ]
     },
     "metadata": {
      "tags": []
     },
     "output_type": "display_data"
    },
    {
     "data": {
      "image/png": "[encoded data removed]",
      "text/plain": [
       "<Figure size 576x288 with 1 Axes>"
      ]
     },
     "metadata": {
      "tags": []
     },
     "output_type": "display_data"
    }
   ],
   "source": [
    "# Accuracy Curve\n",
    "plt.figure(figsize=(8,4))\n",
    "plt.plot(model_train.history['acc'])\n",
    "plt.plot(model_train.history['val_acc'])\n",
    "plt.title('model accuracy')\n",
    "plt.ylabel('accuracy')\n",
    "plt.xlabel('epoch')\n",
    "\n",
    "plt.legend(['train', 'test'], loc='upper left')\n",
    "plt.show()\n",
    "# Loss Curve\n",
    "plt.figure(figsize=(8,4))\n",
    "plt.plot(model_train.history['loss'])\n",
    "plt.plot(model_train.history['val_loss'])\n",
    "plt.title('model loss')\n",
    "plt.ylabel('loss')\n",
    "plt.xlabel('epoch')\n",
    "plt.legend(['train', 'test'], loc='upper left')\n",
    "plt.show()"
   ]
  },
  {
   "cell_type": "code",
   "execution_count": 0,
   "metadata": {
    "colab": {},
    "colab_type": "code",
    "collapsed": true,
    "id": "2KKcGZ6biegn"
   },
   "outputs": [],
   "source": []
  }
 ],
 "metadata": {
  "accelerator": "GPU",
  "colab": {
   "name": "DL_Assignment4.ipynb",
   "provenance": [
    {
     "file_id": "1V2FD9yx_YFE7CJkXAd8kMCjUsZP8yLXO",
     "timestamp": 1524823645585
    }
   ],
   "version": "0.3.2"
  },
  "kernelspec": {
   "display_name": "Python 3",
   "language": "python",
   "name": "python3"
  },
  "language_info": {
   "codemirror_mode": {
    "name": "ipython",
    "version": 3
   },
   "file_extension": ".py",
   "mimetype": "text/x-python",
   "name": "python",
   "nbconvert_exporter": "python",
   "pygments_lexer": "ipython3",
   "version": "3.6.3"
  }
 },
 "nbformat": 4,
 "nbformat_minor": 1
}
